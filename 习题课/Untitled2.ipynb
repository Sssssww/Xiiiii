{
 "cells": [
  {
   "cell_type": "code",
   "execution_count": null,
   "metadata": {},
   "outputs": [],
   "source": [
    "import random\n",
    "x = random.randint(1,100)\n",
    "cishu = int(input(\"能猜多少次:\"))    \n",
    "n = 1\n",
    "while n < cishu+1:\n",
    "    cai = int(input(\"输入你猜的数\"))\n",
    "    if cai == x:\n",
    "        print(\"恭喜你答对了，没奖励\")\n",
    "        break\n",
    "    if cai < x:\n",
    "        print(\"小了\"+\"    你还有\"+str(cishu-n)+\"次机会\")\n",
    "    if cai > x: \n",
    "        print(\"大了\"+\"    你还有\"+str(cishu-n)+\"次机会\")\n",
    "    n += 1\n",
    "print(\"答案是\"+str(x))"
   ]
  },
  {
   "cell_type": "code",
   "execution_count": 6,
   "metadata": {},
   "outputs": [
    {
     "name": "stdout",
     "output_type": "stream",
     "text": [
      "阶梯至少有119阶\n"
     ]
    }
   ],
   "source": [
    "i = 0\n",
    "while i < 1000:\n",
    "    if (i % 2 == 1) and  (i % 3 == 2) and (i % 5 == 4) and (i % 6 == 5) and  (i % 7 == 0):\n",
    "        print(\"阶梯至少有\"+ str(i) + \"阶\")\n",
    "        break\n",
    "    else:\n",
    "        i += 1\n",
    "              "
   ]
  },
  {
   "cell_type": "code",
   "execution_count": null,
   "metadata": {},
   "outputs": [],
   "source": [
    "key = \"11520.\"\n",
    "cishu = 3 \n",
    "while cishu:\n",
    "    input_key = input(\"请输入密码:\")\n",
    "    if \"*\" in input_key:\n",
    "        print(\"密码中不能含有*号\")\n",
    "    else:\n",
    "        if key == input_key:\n",
    "            print(\"密码正确\")\n",
    "            break\n",
    "        else:\n",
    "            print(\"密码错误\")\n",
    "            cishu -= 1\n",
    "            "
   ]
  },
  {
   "cell_type": "code",
   "execution_count": null,
   "metadata": {
    "collapsed": true
   },
   "outputs": [],
   "source": [
    "b = [1,2,3]\n",
    "b.append[4,5,6] #在后面加入一个 列表\n",
    "pritn(b)\n",
    "c = [1,2,3]\n",
    "c.extend[4,5,6] #在列表后面添加元素\n",
    "print(c)"
   ]
  }
 ],
 "metadata": {
  "kernelspec": {
   "display_name": "Python 3",
   "language": "python",
   "name": "python3"
  }
 },
 "nbformat": 4,
 "nbformat_minor": 2
}
