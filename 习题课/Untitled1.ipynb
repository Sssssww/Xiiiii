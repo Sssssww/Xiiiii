{
 "cells": [
  {
   "cell_type": "code",
   "execution_count": null,
   "metadata": {},
   "outputs": [],
   "source": [
    "import random\n",
    "secret = random.randint(1,100)\n",
    "cishu = int(input(\"能猜测的次数:\"))\n",
    "n = 1\n",
    "c = Fales\n",
    "while  n < cishu:\n",
    "    cai = int(input(\"请猜测数字为多少:\"))\n",
    "    if cai == secret:\n",
    "        print(\"恭喜你猜对了，没奖励\")\n",
    "        c = True\n",
    "    else if cai > secret:\n",
    "        print(\"大了\"+\"   你还有\"+str(cishu-n)+\"机会\")\n",
    "    else if cai < secret:\n",
    "        print(\"小了\"+\"   你还有\"+str(cishu-n)+\"机会\"        \n",
    "    n += 1\n",
    "\n",
    "if c:\n",
    "    print(\"你没得机会了\")\n",
    "        \n",
    "    "
   ]
  }
 ],
 "metadata": {
  "kernelspec": {
   "display_name": "Python 3",
   "language": "python",
   "name": "python3"
  },
  "language_info": {
   "codemirror_mode": {
    "name": "ipython",
    "version": 3
   },
   "file_extension": ".py",
   "mimetype": "text/x-python",
   "name": "python",
   "nbconvert_exporter": "python",
   "pygments_lexer": "ipython3",
   "version": "3.6.3"
  }
 },
 "nbformat": 4,
 "nbformat_minor": 2
}
