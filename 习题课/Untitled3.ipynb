{
 "cells": [
  {
   "cell_type": "code",
   "execution_count": 39,
   "metadata": {},
   "outputs": [
    {
     "name": "stdout",
     "output_type": "stream",
     "text": [
      "['i', 'i', 'l', 'i', 'n', 'l', 't', 'f']\n",
      "['f', 'i', 'e', 'i', 'r', 'e', 'e', 'r']\n",
      "['1', '2', '3', '4', '6']\n",
      "['5', '7']\n",
      "['if', '11i', '22love', '33i', '44never55', '66like', 'the77', 'flower']\n",
      "['bit', 'bat', 'but', 'hat', 'hit', 'hut']\n",
      "['2018-11-21 20:15:12', '2000-07-28 09:07:11']\n",
      "['xxxxx@mail.com', 'xxxx@qq.com']\n",
      "7777774396@haha.com 7777774396@haha.com baidu.com 999.com\n",
      "['if', 'i', 'love', 'i', 'like', 'flower']\n"
     ]
    }
   ],
   "source": [
    "import re\n",
    "#匹配一行文字中所有开头在字母\n",
    "s = \"if i love ,i never like the flower\"\n",
    "content0 = re.findall(r'\\b\\w',s)\n",
    "print(content)\n",
    "content1 = re.findall(r'\\w\\b',s)\n",
    "print(content1)\n",
    "\n",
    "# 匹配一行位子中书友数字开头的内容\n",
    "s1 = \"if 11i 22love ,33i 44never55 66like the77 flower\"\n",
    "content2 = re.findall(r'\\b\\d',s1)\n",
    "print(content2)\n",
    "content3 = re.findall(r'\\d\\b',s1)\n",
    "print(content3)\n",
    "\n",
    "#匹配只含字母和数字的行\n",
    "s2 = \"if 11i 22love ,33i \\n44never55 66like the77 、\\nflower\"\n",
    "content4 = re.findall(r'\\w+',s2, re.M)\n",
    "print(content4)\n",
    "\n",
    "#写一个正则表达式，使其能匹配以下字符‘bit’， ‘bat’， ‘but’，‘hat’，‘hit’，‘hut’\n",
    "s3 = \"'bit', 'bat', 'but','hat','hit','hut'\"\n",
    "content5 = re.findall(r'..t',s3)\n",
    "print(content5)\n",
    "\n",
    "#提前每行中完整的年月日好时间的\n",
    "s4 = 'asd123 2018-11-21 20:15:12 aaaaaddadadd 2000-07-28 09:07:11'\n",
    "content6 = re.findall(r'\\d{4}-\\d{2}-\\d{2} \\d{2}:\\d{2}:\\d{2}',s4)\n",
    "print(content6)\n",
    "\n",
    "#提取电子邮件格式\n",
    "s5 = \"\"\"xxxxx@mail.com xxxx@qq.com baidu.com 999.com\"\"\"\n",
    "content7 = re.findall(r'\\w+@\\w+.com',s5)\n",
    "print(content7)\n",
    "\n",
    "#把以上合法的电子邮件替换成我自己的电子邮件地址\n",
    "content8 = re.sub(r'\\w+@\\w+.com','7777774396@haha.com',s5)\n",
    "print(content8)\n",
    "\n",
    "#使用正则提取字符串中的单词\n",
    "s6 = \"if 11i 22love ,33i 44never55 66like the77 flower\"\n",
    "content9 = re.findall(r'[a-zA-Z]+\\b',s6)\n",
    "print(content9)\n"
   ]
  }
 ],
 "metadata": {
  "kernelspec": {
   "display_name": "Python 3",
   "language": "python",
   "name": "python3"
  },
  "language_info": {
   "codemirror_mode": {
    "name": "ipython",
    "version": 3
   },
   "file_extension": ".py",
   "mimetype": "text/x-python",
   "name": "python",
   "nbconvert_exporter": "python",
   "pygments_lexer": "ipython3",
   "version": "3.6.3"
  }
 },
 "nbformat": 4,
 "nbformat_minor": 2
}
