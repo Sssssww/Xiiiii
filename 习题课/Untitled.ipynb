{
 "cells": [
  {
   "cell_type": "markdown",
   "metadata": {},
   "source": [
    "# 使用多线程曲播放两个播放列表 ,一个是moive 一个是music\n",
    "- _thread\n",
    "- threading"
   ]
  },
  {
   "cell_type": "code",
   "execution_count": 1,
   "metadata": {},
   "outputs": [
    {
     "name": "stdout",
     "output_type": "stream",
     "text": [
      "你现在收听的是：周杰伦.mp3\n",
      "你现在收看的是：一出好戏.mp4\n",
      "你现在收听的是：五月天.mp3\n",
      "没有这个格式\n",
      "你现在收看的是：复仇者联盟.avi\n",
      "没有这个格式\n",
      "没有这个格式\n"
     ]
    }
   ],
   "source": [
    "import _thread as thread\n",
    "import time\n",
    "\n",
    "\n",
    "moive_list = [\"一出好戏.mp4\",\"复仇者联盟.avi\",\"aaa.rmvb\"]\n",
    "music_list = [\"周杰伦.mp3\",'五月天.mp3']\n",
    "movie_format = ['mp4','avi']\n",
    "music_format = ['mp3']\n",
    "\n",
    "def play(playlist):\n",
    "    for i in playlist:\n",
    "        if i.split(\".\")[1] in movie_format:\n",
    "            print(\"你现在收看的是：{}\" .format(i))\n",
    "            time.sleep(1)\n",
    "        if i.split(\".\")[1]  in music_format :\n",
    "            print(\"你现在收听的是：{}\" . format(i))\n",
    "            time.sleep(1)\n",
    "        else:\n",
    "            print(\"没有这个格式\")\n",
    "def thread_run():\n",
    "    thread.start_new_thread(play,(moive_list,))\n",
    "    thread.start_new_thread(play,(music_list,))\n",
    "    time.sleep(5)\n",
    "if __name__ == \"__main__\" :\n",
    "    thread_run()"
   ]
  },
  {
   "cell_type": "code",
   "execution_count": 12,
   "metadata": {
    "scrolled": true
   },
   "outputs": [
    {
     "name": "stdout",
     "output_type": "stream",
     "text": [
      "你现在收看的是：一出好戏.mp4\n",
      "你现在收听的是：周杰伦.mp3\n",
      "没有这个格式\n",
      "你现在收看的是：复仇者联盟.avi\n",
      "你现在收听的是：五月天.mp3\n",
      "没有这个格式\n",
      "没有这个格式\n"
     ]
    }
   ],
   "source": [
    "import threading\n",
    "import time\n",
    "impott\n",
    "\n",
    "moive_list = [\"一出好戏.mp4\",\"复仇者联盟.avi\",\"aaa.rmvb\"]\n",
    "music_list = [\"周杰伦.mp3\",'五月天.mp3']\n",
    "movie_format = ['mp4','avi']\n",
    "music_format = ['mp3']\n",
    "\n",
    "def play(playlist):\n",
    "    for i in playlist:\n",
    "        if i.split(\".\")[1] in movie_format:\n",
    "            print(\"你现在收看的是：{}\" .format(i))\n",
    "            time.sleep(1)\n",
    "        if i.split(\".\")[1]  in music_format :\n",
    "            print(\"你现在收听的是：{}\" . format(i))\n",
    "            time.sleep(1)\n",
    "        else:\n",
    "            print(\"没有这个格式\")\n",
    "#def thread_run():\n",
    "#   t1 = threading.Thread(target = play ,args = (moive_list,))\n",
    "#    t2 = threading.Thread(target = play ,args = (music_list,))#元组\n",
    "#    t1.start()\n",
    "#    t2.start()\n",
    "#if __name__ == \"__main__\" :\n",
    "#    thread_run()\n"
   ]
  },
  {
   "cell_type": "code",
   "execution_count": null,
   "metadata": {
    "collapsed": true
   },
   "outputs": [],
   "source": []
  }
 ],
 "metadata": {
  "kernelspec": {
   "display_name": "Python 3",
   "language": "python",
   "name": "python3"
  },
  "language_info": {
   "codemirror_mode": {
    "name": "ipython",
    "version": 3
   },
   "file_extension": ".py",
   "mimetype": "text/x-python",
   "name": "python",
   "nbconvert_exporter": "python",
   "pygments_lexer": "ipython3",
   "version": "3.6.3"
  }
 },
 "nbformat": 4,
 "nbformat_minor": 2
}
