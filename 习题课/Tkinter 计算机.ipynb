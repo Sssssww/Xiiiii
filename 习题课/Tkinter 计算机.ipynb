{
 "cells": [
  {
   "cell_type": "markdown",
   "metadata": {},
   "source": [
    "# Tkinter 计算机\n",
    "- 模拟系统计算机功能\n",
    "- 实现一个简单的具有渐渐发等操作的计算器\n",
    "- 使用Tkinter\n",
    "- 操作步骤\n",
    "    - 画GUI\n",
    "    - 给每个控件配置相应的事件\n",
    "    - 写逻辑代码"
   ]
  },
  {
   "cell_type": "code",
   "execution_count": 10,
   "metadata": {},
   "outputs": [
    {
     "name": "stdout",
     "output_type": "stream",
     "text": [
      "Help on function wm_geometry in module tkinter:\n",
      "\n",
      "wm_geometry(self, newGeometry=None)\n",
      "    Set geometry to NEWGEOMETRY of the form =widthxheight+x+y. Return\n",
      "    current value if None is given.\n",
      "\n"
     ]
    }
   ],
   "source": [
    "from tkinter import *\n",
    "help(tkinter.Tk.geometry)"
   ]
  },
  {
   "cell_type": "code",
   "execution_count": 11,
   "metadata": {},
   "outputs": [
    {
     "name": "stdout",
     "output_type": "stream",
     "text": [
      "Help on class StringVar in module tkinter:\n",
      "\n",
      "class StringVar(Variable)\n",
      " |  Value holder for strings variables.\n",
      " |  \n",
      " |  Method resolution order:\n",
      " |      StringVar\n",
      " |      Variable\n",
      " |      builtins.object\n",
      " |  \n",
      " |  Methods defined here:\n",
      " |  \n",
      " |  __init__(self, master=None, value=None, name=None)\n",
      " |      Construct a string variable.\n",
      " |      \n",
      " |      MASTER can be given as master widget.\n",
      " |      VALUE is an optional value (defaults to \"\")\n",
      " |      NAME is an optional Tcl name (defaults to PY_VARnum).\n",
      " |      \n",
      " |      If NAME matches an existing variable and VALUE is omitted\n",
      " |      then the existing value is retained.\n",
      " |  \n",
      " |  get(self)\n",
      " |      Return value of variable as string.\n",
      " |  \n",
      " |  ----------------------------------------------------------------------\n",
      " |  Methods inherited from Variable:\n",
      " |  \n",
      " |  __del__(self)\n",
      " |      Unset the variable in Tcl.\n",
      " |  \n",
      " |  __eq__(self, other)\n",
      " |      Comparison for equality (==).\n",
      " |      \n",
      " |      Note: if the Variable's master matters to behavior\n",
      " |      also compare self._master == other._master\n",
      " |  \n",
      " |  __str__(self)\n",
      " |      Return the name of the variable in Tcl.\n",
      " |  \n",
      " |  initialize = set(self, value)\n",
      " |      Set the variable to VALUE.\n",
      " |  \n",
      " |  set(self, value)\n",
      " |      Set the variable to VALUE.\n",
      " |  \n",
      " |  trace = trace_variable(self, mode, callback)\n",
      " |      Define a trace callback for the variable.\n",
      " |      \n",
      " |      MODE is one of \"r\", \"w\", \"u\" for read, write, undefine.\n",
      " |      CALLBACK must be a function which is called when\n",
      " |      the variable is read, written or undefined.\n",
      " |      \n",
      " |      Return the name of the callback.\n",
      " |      \n",
      " |      This deprecated method wraps a deprecated Tcl method that will\n",
      " |      likely be removed in the future.  Use trace_add() instead.\n",
      " |  \n",
      " |  trace_add(self, mode, callback)\n",
      " |      Define a trace callback for the variable.\n",
      " |      \n",
      " |      Mode is one of \"read\", \"write\", \"unset\", or a list or tuple of\n",
      " |      such strings.\n",
      " |      Callback must be a function which is called when the variable is\n",
      " |      read, written or unset.\n",
      " |      \n",
      " |      Return the name of the callback.\n",
      " |  \n",
      " |  trace_info(self)\n",
      " |      Return all trace callback information.\n",
      " |  \n",
      " |  trace_remove(self, mode, cbname)\n",
      " |      Delete the trace callback for a variable.\n",
      " |      \n",
      " |      Mode is one of \"read\", \"write\", \"unset\" or a list or tuple of\n",
      " |      such strings.  Must be same as were specified in trace_add().\n",
      " |      cbname is the name of the callback returned from trace_add().\n",
      " |  \n",
      " |  trace_variable(self, mode, callback)\n",
      " |      Define a trace callback for the variable.\n",
      " |      \n",
      " |      MODE is one of \"r\", \"w\", \"u\" for read, write, undefine.\n",
      " |      CALLBACK must be a function which is called when\n",
      " |      the variable is read, written or undefined.\n",
      " |      \n",
      " |      Return the name of the callback.\n",
      " |      \n",
      " |      This deprecated method wraps a deprecated Tcl method that will\n",
      " |      likely be removed in the future.  Use trace_add() instead.\n",
      " |  \n",
      " |  trace_vdelete(self, mode, cbname)\n",
      " |      Delete the trace callback for a variable.\n",
      " |      \n",
      " |      MODE is one of \"r\", \"w\", \"u\" for read, write, undefine.\n",
      " |      CBNAME is the name of the callback returned from trace_variable or trace.\n",
      " |      \n",
      " |      This deprecated method wraps a deprecated Tcl method that will\n",
      " |      likely be removed in the future.  Use trace_remove() instead.\n",
      " |  \n",
      " |  trace_vinfo(self)\n",
      " |      Return all trace callback information.\n",
      " |      \n",
      " |      This deprecated method wraps a deprecated Tcl method that will\n",
      " |      likely be removed in the future.  Use trace_info() instead.\n",
      " |  \n",
      " |  ----------------------------------------------------------------------\n",
      " |  Data descriptors inherited from Variable:\n",
      " |  \n",
      " |  __dict__\n",
      " |      dictionary for instance variables (if defined)\n",
      " |  \n",
      " |  __weakref__\n",
      " |      list of weak references to the object (if defined)\n",
      " |  \n",
      " |  ----------------------------------------------------------------------\n",
      " |  Data and other attributes inherited from Variable:\n",
      " |  \n",
      " |  __hash__ = None\n",
      "\n"
     ]
    }
   ],
   "source": [
    "help(tkinter.StringVar)"
   ]
  },
  {
   "cell_type": "code",
   "execution_count": 15,
   "metadata": {},
   "outputs": [],
   "source": [
    "baseFrame = Tk()\n",
    "top = StringVar()\n",
    "top.set(\"0\")"
   ]
  },
  {
   "cell_type": "code",
   "execution_count": 18,
   "metadata": {},
   "outputs": [
    {
     "data": {
      "text/plain": [
       "4"
      ]
     },
     "execution_count": 18,
     "metadata": {},
     "output_type": "execute_result"
    }
   ],
   "source": [
    "a = \"4464+5555\"\n",
    "a.find(\"+\")"
   ]
  },
  {
   "cell_type": "code",
   "execution_count": 69,
   "metadata": {},
   "outputs": [
    {
     "name": "stdout",
     "output_type": "stream",
     "text": [
      "22\n"
     ]
    }
   ],
   "source": [
    "a = \"4+4+5+5+4\"\n",
    "t = eval(a)\n",
    "print(t)"
   ]
  },
  {
   "cell_type": "code",
   "execution_count": 68,
   "metadata": {},
   "outputs": [],
   "source": [
    "#/usr/bin/python\n",
    "# coding: utf-8\n",
    "\n",
    "from tkinter import *\n",
    "\n",
    "# 按键返回函数\n",
    "def call(num):\n",
    "    content = display.get() + num\n",
    "    display.set(content)\n",
    "# 使用eval 函数计算\n",
    "def calculate():\n",
    "    try:\n",
    "        content = display.get()\n",
    "        result = eval(content)\n",
    "        display.set(content + '=\\n' + str(result))\n",
    "    except:\n",
    "        display.set('Error')\n",
    "        clear()\n",
    "# 清空内容栏\n",
    "def clear():\n",
    "    display.set('')\n",
    "# 删除前一个字符\n",
    "def backspace():\n",
    "    display.set(str(display.get()[:-1]))\n",
    "\n",
    "def main():\n",
    "    # 定义主窗口\n",
    "    root = Tk()\n",
    "    root.title('Calculator')\n",
    "    root.geometry('210x200+300+400')\n",
    "    # 将display定义成global，main() 函数外的call, calculate等可以调用\n",
    "    global display\n",
    "    display = StringVar()\n",
    "    #　设置内容显示栏，使用label，anchor是靠右，默认居中\n",
    "    label = Label(root, relief = 'sunken', borderwidth = 3, anchor = SE)\n",
    "    label.config(bg = 'grey', width = 25, height = 3)\n",
    "    label['textvariable'] = display\n",
    "    label.grid(row = 0, column = 0, columnspan = 4)\n",
    "\n",
    "    #text = Text(root, relief = 'sunken', borderwidth = 3)\n",
    "    #text.insert(INSERT, str(display))\n",
    "    #text.grid(row = 0, column = 0, columnspan = 4)\n",
    "    # 添加各个按钮，并绑定行为,使用lambda很方便，是用的是grid布局\n",
    "    Button(root, text = 'C', fg = '#EF7321', width = 3, command = lambda: clear()).grid(row = 1, column = 0)\n",
    "    Button(root, text = 'DEL', width = 3, command = lambda:backspace()).grid(row = 1, column = 1)\n",
    "    \n",
    "    Button(root, text = '/', width = 3, command = lambda:call('/')).grid(row = 1, column = 2)\n",
    "    Button(root, text = '*', width = 3, command = lambda:call('*')).grid(row = 1, column = 3)\n",
    "    Button(root, text = '7', width = 3, command = lambda:call('7')).grid(row = 2, column = 0)\n",
    "    Button(root, text = '8', width = 3, command = lambda:call('8')).grid(row = 2, column = 1)\n",
    "    Button(root, text = '9', width = 3, command = lambda:call('9')).grid(row = 2, column = 2)\n",
    "    Button(root, text = '-', width = 3, command = lambda:call('-')).grid(row = 2, column = 3)\n",
    "    Button(root, text = '4', width = 3, command = lambda:call('4')).grid(row = 3, column = 0)\n",
    "    Button(root, text = '5', width = 3, command = lambda:call('5')).grid(row = 3, column = 1)\n",
    "    Button(root, text = '6', width = 3, command = lambda:call('6')).grid(row = 3, column = 2)\n",
    "    Button(root, text = '+', width = 3, command = lambda:call('+')).grid(row = 3, column = 3)\n",
    "    Button(root, text = '1', width = 3, command = lambda:call('1')).grid(row = 4, column = 0)\n",
    "    Button(root, text = '2', width = 3, command = lambda:call('2')).grid(row = 4, column = 1)\n",
    "    Button(root, text = '3', width = 3, command = lambda:call('3')).grid(row = 4, column = 2)\n",
    "    Button(root, text = '=', width = 3, bg = '#EF7321', height = 3,command = lambda:calculate()).grid(row = 4, column = 3, rowspan = 2)\n",
    "    Button(root, text = '0', width = 10, command = lambda:call('0')).grid(row = 5, column = 0, columnspan = 2)\n",
    "    Button(root, text = '.', width = 3, command = lambda:call('.')).grid(row = 5, column = 2) \n",
    "\n",
    "    root.mainloop()\n",
    "if __name__ == '__main__':\n",
    "    main()"
   ]
  }
 ],
 "metadata": {
  "kernelspec": {
   "display_name": "Python 3",
   "language": "python",
   "name": "python3"
  },
  "language_info": {
   "codemirror_mode": {
    "name": "ipython",
    "version": 3
   },
   "file_extension": ".py",
   "mimetype": "text/x-python",
   "name": "python",
   "nbconvert_exporter": "python",
   "pygments_lexer": "ipython3",
   "version": "3.6.3"
  }
 },
 "nbformat": 4,
 "nbformat_minor": 2
}
