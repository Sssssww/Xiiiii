{
 "cells": [
  {
   "cell_type": "code",
   "execution_count": 17,
   "metadata": {},
   "outputs": [
    {
     "name": "stdout",
     "output_type": "stream",
     "text": [
      "140267398167176\n",
      "140267398208648\n",
      "********************\n",
      "140267398548816\n",
      "140267398548816\n"
     ]
    }
   ],
   "source": [
    "#list切片是创造一个全新列表\n",
    "#str 切片可能是原来字符串\n",
    "s = [1,2,3,5,6,9,7]\n",
    "q = \"ai qing bao wei zhan\"\n",
    "s1 = s[:]\n",
    "print(id(s))\n",
    "print(id(s1))\n",
    "c = \"ajjj\"\n",
    "print(\"*\"*20)\n",
    "    \n",
    "\n",
    "c1 = c[:]\n",
    "print(id(c))\n",
    "print(id(c1))"
   ]
  },
  {
   "cell_type": "code",
   "execution_count": 18,
   "metadata": {},
   "outputs": [
    {
     "name": "stdout",
     "output_type": "stream",
     "text": [
      "Ai qing bao wei zhan\n"
     ]
    }
   ],
   "source": [
    "#capitalize 首字符大写，其余小写，返回字符串\n",
    "\n",
    "s = q\n",
    "s1 = s.capitalize()\n",
    "print(s1)"
   ]
  },
  {
   "cell_type": "code",
   "execution_count": 19,
   "metadata": {},
   "outputs": [
    {
     "name": "stdout",
     "output_type": "stream",
     "text": [
      "Ai Qing Bao Wei Zhan\n"
     ]
    }
   ],
   "source": [
    "#title  将每个单词的首字符大写，返回的是字符串\n",
    "\n",
    "s = q \n",
    "s1 = s.title()\n",
    "print(s1)"
   ]
  },
  {
   "cell_type": "code",
   "execution_count": 20,
   "metadata": {},
   "outputs": [
    {
     "name": "stdout",
     "output_type": "stream",
     "text": [
      "AI QING BAO WEI ZHAN\n"
     ]
    }
   ],
   "source": [
    "#upper 将所有字母变为大写字母 返回的是字符串\n",
    "s = q\n",
    "s1 = s.upper()\n",
    "print(s1)"
   ]
  },
  {
   "cell_type": "code",
   "execution_count": 23,
   "metadata": {},
   "outputs": [
    {
     "name": "stdout",
     "output_type": "stream",
     "text": [
      "ai qing bao wei zhan\n"
     ]
    }
   ],
   "source": [
    "#lower 将所有字母变为小写字母 返回是字符串\n",
    "s = q\n",
    "s1 = s.lower()\n",
    "print(s1)"
   ]
  },
  {
   "cell_type": "code",
   "execution_count": 27,
   "metadata": {},
   "outputs": [
    {
     "name": "stdout",
     "output_type": "stream",
     "text": [
      "ai QING bao WEI ZHAN\n"
     ]
    }
   ],
   "source": [
    "# swapcase 大小写交换 返回的是字符串\n",
    "s = \"AI qing BAO wei zhan\"\n",
    "s1 = s.swapcase()\n",
    "print(s1)"
   ]
  },
  {
   "cell_type": "code",
   "execution_count": 29,
   "metadata": {},
   "outputs": [
    {
     "name": "stdout",
     "output_type": "stream",
     "text": [
      "20\n",
      "23\n"
     ]
    }
   ],
   "source": [
    "#len()计算字符长度\n",
    "#一个汉字算一个长度\n",
    "print(len(q))\n",
    "print(len(q+\"哈哈哈\"))"
   ]
  },
  {
   "cell_type": "code",
   "execution_count": 48,
   "metadata": {},
   "outputs": [
    {
     "name": "stdout",
     "output_type": "stream",
     "text": [
      "1\n",
      "1\n",
      "-1\n"
     ]
    }
   ],
   "source": [
    "#find()查找指定字符串 找不到 返回-1 ，第一次找到返回第一次索引值\n",
    "#index()查找指定字符串，找不到报错\n",
    "\n",
    "s = q\n",
    "s1 = s.find('i',1)  # 后面的 1 为开始查找 字符串的下标\n",
    "s2 = s.index('i')\n",
    "s3 = s.find('p')\n",
    "\n",
    "print(s1)\n",
    "print(s2)\n",
    "print(s3)\n"
   ]
  },
  {
   "cell_type": "code",
   "execution_count": 52,
   "metadata": {},
   "outputs": [
    {
     "name": "stdout",
     "output_type": "stream",
     "text": [
      "1\n"
     ]
    }
   ],
   "source": [
    "# count()计算字符串出现的次数\n",
    "s = q\n",
    "s1 = s.count(\"q\")\n",
    "print(s1)"
   ]
  },
  {
   "cell_type": "code",
   "execution_count": 57,
   "metadata": {},
   "outputs": [
    {
     "name": "stdout",
     "output_type": "stream",
     "text": [
      "True\n",
      "False\n"
     ]
    }
   ],
   "source": [
    "# startswith 检测是否以指定字母开头 返回布尔值\n",
    "#endswith   检测是否以指定字母开头\n",
    "s = q\n",
    "s1 = s.startswith(\"a\")\n",
    "s2 = s.endswith(\"d\")\n",
    "print(s1)\n",
    "print(s2)"
   ]
  },
  {
   "cell_type": "code",
   "execution_count": 67,
   "metadata": {},
   "outputs": [
    {
     "name": "stdout",
     "output_type": "stream",
     "text": [
      "False\n",
      "False\n",
      "True\n",
      "====================\n",
      "False\n",
      "True\n",
      "False\n",
      "====================\n",
      "False\n",
      "False\n",
      "True\n",
      "********************\n",
      "True\n",
      "False\n",
      "False\n"
     ]
    }
   ],
   "source": [
    "# isupper() 检测所有字母是否大写   返回布尔值\n",
    "s = \"Ahah LL  一\"\n",
    "s1 = \"f  aa 二\"\n",
    "s2 = \"L    三\"\n",
    "print(s.isupper())\n",
    "print(s1.isupper())\n",
    "print(s2.isupper())\n",
    "print(\"=\"*20)\n",
    "# islower() 检测所有字母是否小写\n",
    "print(s.islower())\n",
    "print(s1.islower())\n",
    "print(s2.islower())\n",
    "print(\"=\"*20)\n",
    "# istitle 检测字母是否指定标题显示(每个单词首字母大写)\n",
    "print(s.istitle())\n",
    "print(s1.istitle())\n",
    "print(s2.istitle())\n",
    "print(\"*\"*20)\n",
    "#isspace() 检测字符串是否空字符串\n",
    "s = \"   \"\n",
    "s1 = \"   al\"\n",
    "s2 = \"\"\n",
    "print(s.isspace())\n",
    "print(s1.isspace())\n",
    "print(s2.isspace())"
   ]
  },
  {
   "cell_type": "code",
   "execution_count": 69,
   "metadata": {},
   "outputs": [
    {
     "name": "stdout",
     "output_type": "stream",
     "text": [
      "False\n",
      "True\n",
      "True\n"
     ]
    }
   ],
   "source": [
    "# isalpha()检测字符串是否字母组成 返回布尔值\n",
    "# 说明：汉字在英文字符包裹中被当做字符处理\n",
    "s = \"I AI LALAL一\"\n",
    "s1 = \"Iailala二\"\n",
    "s2 = \"哈哈哈\"\n",
    "print(s.isalpha())\n",
    "print(s1.isalpha())\n",
    "print(s2.isalpha())"
   ]
  },
  {
   "cell_type": "code",
   "execution_count": 72,
   "metadata": {},
   "outputs": [
    {
     "name": "stdout",
     "output_type": "stream",
     "text": [
      "False\n",
      "False\n",
      "True\n"
     ]
    }
   ],
   "source": [
    "#isalnum() 检测字符串是否有字母加数字组成 返回布尔值\n",
    "s = q + \"123\"\n",
    "s1 = q\n",
    "s2 = \"123\"\n",
    "print(s.isalnum())\n",
    "print(s1.isalnum())\n",
    "print(s2.isalnum())"
   ]
  },
  {
   "cell_type": "code",
   "execution_count": 81,
   "metadata": {},
   "outputs": [
    {
     "name": "stdout",
     "output_type": "stream",
     "text": [
      "True\n",
      "True\n",
      "True\n",
      "********************\n",
      "False\n",
      "False\n",
      "True\n",
      "********************\n",
      "False\n",
      "False\n",
      "False\n",
      "********************\n",
      "False\n",
      "False\n",
      "False\n",
      "********************\n"
     ]
    }
   ],
   "source": [
    "# isdigit()检测是否由数字组成\n",
    "#isdecimal()\n",
    "#isnumeric()\n",
    "s = \"520\"\n",
    "print(s.isdigit())\n",
    "print(s.isdecimal())\n",
    "print(s.isnumeric())\n",
    "print(\"*\"*20)\n",
    "s = \"壹百\"\n",
    "print(s.isdigit())\n",
    "print(s.isdecimal())\n",
    "print(s.isnumeric())\n",
    "print(\"*\"*20)\n",
    "s = \"52.0\"\n",
    "print(s.isdigit())\n",
    "print(s.isdecimal())\n",
    "print(s.isnumeric())\n",
    "print(\"*\"*20)\n",
    "#罗马字符的isnumeric()为Ture\n",
    "s  = \"\"\n",
    "print(s.isdigit())\n",
    "print(s.isdecimal())\n",
    "print(s.isnumeric())\n",
    "print(\"*\"*20)"
   ]
  },
  {
   "cell_type": "code",
   "execution_count": 87,
   "metadata": {},
   "outputs": [
    {
     "name": "stdout",
     "output_type": "stream",
     "text": [
      "['我如果爱你', '绝不像攀援的凌霄花', '借你的高枝来炫耀自己', '我如果爱你', '绝不学痴情的鸟儿', '为绿荫重复单调的歌曲']\n",
      "['我如果爱你*', '不像攀援的凌霄花*借你的高枝来炫耀自己*我如果爱你*', '不学痴情的鸟儿*为绿荫重复单调的歌曲']\n"
     ]
    }
   ],
   "source": [
    "#split()用指定字符来切割字符串 返回有字符串组成的列表\n",
    "s = \"我如果爱你*绝不像攀援的凌霄花*借你的高枝来炫耀自己*我如果爱你*绝不学痴情的鸟儿*为绿荫重复单调的歌曲\"\n",
    "list1 = s.split(\"*\")\n",
    "list2 = s.split(\"绝\")\n",
    "print(list1)\n",
    "print(list2)"
   ]
  },
  {
   "cell_type": "code",
   "execution_count": 89,
   "metadata": {},
   "outputs": [
    {
     "name": "stdout",
     "output_type": "stream",
     "text": [
      "['我如果爱你', '绝不像攀援的凌霄花', '借你的高枝来炫耀自己', '我如果爱你', '绝不学痴情的鸟儿', '为绿荫重复单调的歌曲']\n"
     ]
    }
   ],
   "source": [
    "#splitlines() 用换行符来切割字符串\n",
    "s = \"\"\"我如果爱你\\n绝不像攀援的凌霄花\\n借你的高枝来炫耀自己\n",
    "我如果爱你\n",
    "绝不学痴情的鸟儿\n",
    "为绿荫重复单调的歌曲\n",
    "\"\"\"\n",
    "print(s.splitlines())"
   ]
  },
  {
   "cell_type": "code",
   "execution_count": 127,
   "metadata": {},
   "outputs": [
    {
     "name": "stdout",
     "output_type": "stream",
     "text": [
      "我如果爱你* 绝不像攀援的凌霄花* 借你的高枝来炫耀自己* 我如果爱你* 绝不学痴情的鸟* 为绿荫重复单调的歌曲\n",
      "++++++++++++++++++++\n",
      "我如果爱你啊  绝不像攀援的凌霄花啊  借你的高枝来炫耀自己啊  我如果爱你啊  绝不学痴情的鸟啊  为绿荫重复单调的歌曲\n",
      "我如果爱你  绝不像攀援的凌霄花  借你的高枝来炫耀自己  我如果爱你  绝不学痴情的鸟  为绿荫重复单调的歌曲\n"
     ]
    }
   ],
   "source": [
    "#join()将列表按照指定字符串连接 返回的是字符串\n",
    "list1 = ['我如果爱你','绝不像攀援的凌霄花','借你的高枝来炫耀自己','我如果爱你','绝不学痴情的鸟','为绿荫重复单调的歌曲']\n",
    "s = \"* \". join(list1)\n",
    "s1 = \"啊  \". join(list1)\n",
    "s2 = \"  \". join(list1)\n",
    "print(s)\n",
    "print(\"+\"*20)\n",
    "print(s1)\n",
    "print(s2)"
   ]
  },
  {
   "cell_type": "code",
   "execution_count": 107,
   "metadata": {},
   "outputs": [
    {
     "name": "stdout",
     "output_type": "stream",
     "text": [
      "520aaaa\n",
      "520    a\n",
      "3\n",
      "7\n",
      "8\n"
     ]
    }
   ],
   "source": [
    "# ljust()指定字符串的长度，内容靠左变，不足的位置用指定字符填充 默认空格 返回字符串\n",
    "s = \"520\"\n",
    "s1 = s.ljust(7,\"a\")\n",
    "s2 = s.ljust(7)+\"a\"\n",
    "print(s1)\n",
    "print(s2)\n",
    "print(len(s))\n",
    "print(len(s1))\n",
    "print(len(s2))"
   ]
  },
  {
   "cell_type": "code",
   "execution_count": 111,
   "metadata": {},
   "outputs": [
    {
     "name": "stdout",
     "output_type": "stream",
     "text": [
      "aa520aa\n",
      "  520  a\n",
      "3\n",
      "7\n",
      "8\n"
     ]
    }
   ],
   "source": [
    "#center() 指定字符串的长度 内容居中，不足的位置指定字符填充，默认空格 返回字符串\n",
    "s = \"520\"\n",
    "s1 = s.center(7,\"a\")\n",
    "s2 = s.center(7)+\"a\"\n",
    "print(s1)\n",
    "print(s2)\n",
    "print(len(s))\n",
    "print(len(s1))\n",
    "print(len(s2))"
   ]
  },
  {
   "cell_type": "code",
   "execution_count": 113,
   "metadata": {},
   "outputs": [
    {
     "name": "stdout",
     "output_type": "stream",
     "text": [
      "aaaa520\n",
      "    520a\n",
      "3\n",
      "7\n",
      "8\n"
     ]
    }
   ],
   "source": [
    "# rjust()指定字符串的长度，内容靠右变，不足的位置用指定字符填充 默认空格 返回字符串\n",
    "s = \"520\"\n",
    "s1 = s.rjust(7,\"a\")\n",
    "s2 = s.rjust(7)+\"a\"\n",
    "print(s1)\n",
    "print(s2)\n",
    "print(len(s))\n",
    "print(len(s1))\n",
    "print(len(s2))"
   ]
  },
  {
   "cell_type": "code",
   "execution_count": 121,
   "metadata": {},
   "outputs": [
    {
     "name": "stdout",
     "output_type": "stream",
     "text": [
      "520\n",
      "520\n",
      "aaa520\n",
      "++++++++++++++++++++\n",
      "520\n",
      "520aaa\n",
      "aaa520\n",
      "++++++++++++++++++++\n",
      "520\n",
      "520aaa\n",
      "520\n",
      "++++++++++++++++++++\n",
      "\n",
      "\n",
      "\n",
      "++++++++++++++++++++\n"
     ]
    }
   ],
   "source": [
    "#strip()去掉左右两边指定字符 默认为空格\n",
    "#lstrip()去掉边左指定字符 默认为空格\n",
    "#rstrip()去掉右边指定字符 默认为空格\n",
    "s = \"aaa520\"\n",
    "s1 = \"aaa520aaa\"\n",
    "s2 = \"520aaa\"\n",
    "s3 = \"aaaaa\"\n",
    "print(s.strip(\"a\"))\n",
    "print(s.lstrip(\"a\"))\n",
    "print(s.rstrip(\"a\"))\n",
    "print(\"+\"*20)\n",
    "print(s1.strip(\"a\"))\n",
    "print(s1.lstrip(\"a\"))\n",
    "print(s1.rstrip(\"a\"))\n",
    "print(\"+\"*20)\n",
    "print(s2.strip(\"a\"))\n",
    "print(s2.lstrip(\"a\"))\n",
    "print(s2.rstrip(\"a\"))\n",
    "print(\"+\"*20)\n",
    "print(s3.strip(\"a\"))\n",
    "print(s3.lstrip(\"a\"))\n",
    "print(s3.rstrip(\"a\"))\n",
    "print(\"+\"*20)"
   ]
  },
  {
   "cell_type": "code",
   "execution_count": 126,
   "metadata": {},
   "outputs": [
    {
     "name": "stdout",
     "output_type": "stream",
     "text": [
      "0000 520\n"
     ]
    }
   ],
   "source": [
    "#zfill()指定字符串长度，内容靠右  不足的位置用0填充\n",
    "s = \" 520\"\n",
    "s1 = s.zfill(8)\n",
    "print(s1)"
   ]
  },
  {
   "cell_type": "code",
   "execution_count": 134,
   "metadata": {},
   "outputs": [
    {
     "name": "stdout",
     "output_type": "stream",
     "text": [
      "{32: 42}\n",
      "我如果爱你**绝不像攀援的凌霄花**借你的高枝来炫耀自己**我如果爱你**绝不学痴情的鸟**为绿荫重复单调的歌曲\n"
     ]
    }
   ],
   "source": [
    "#maketrans() 生产用于字符串替换的映射表\n",
    "#translate() 进行字符串替换\n",
    "s = \"我如果爱你  绝不像攀援的凌霄花  借你的高枝来炫耀自己  我如果爱你  绝不学痴情的鸟  为绿荫重复单调的歌曲\"\n",
    "table = s.maketrans(\" \",\"*\")  \n",
    "print(table)\n",
    "print(s.translate(table))"
   ]
  },
  {
   "cell_type": "code",
   "execution_count": 135,
   "metadata": {},
   "outputs": [
    {
     "ename": "ValueError",
     "evalue": "the first two maketrans arguments must have equal length",
     "output_type": "error",
     "traceback": [
      "\u001b[0;31m---------------------------------------------------------------------------\u001b[0m",
      "\u001b[0;31mValueError\u001b[0m                                Traceback (most recent call last)",
      "\u001b[0;32m<ipython-input-135-4bcbcd2b6ffb>\u001b[0m in \u001b[0;36m<module>\u001b[0;34m()\u001b[0m\n\u001b[1;32m      2\u001b[0m \u001b[0;31m#translate() 进行字符串替换\u001b[0m\u001b[0;34m\u001b[0m\u001b[0;34m\u001b[0m\u001b[0m\n\u001b[1;32m      3\u001b[0m \u001b[0ms\u001b[0m \u001b[0;34m=\u001b[0m \u001b[0;34m\"我如果爱你  绝不像攀援的凌霄花  借你的高枝来炫耀自己  我如果爱你  绝不学痴情的鸟  为绿荫重复单调的歌曲\"\u001b[0m\u001b[0;34m\u001b[0m\u001b[0m\n\u001b[0;32m----> 4\u001b[0;31m \u001b[0mtable\u001b[0m \u001b[0;34m=\u001b[0m \u001b[0ms\u001b[0m\u001b[0;34m.\u001b[0m\u001b[0mmaketrans\u001b[0m\u001b[0;34m(\u001b[0m\u001b[0;34m\" \"\u001b[0m\u001b[0;34m,\u001b[0m\u001b[0;34m\"**\"\u001b[0m\u001b[0;34m)\u001b[0m\u001b[0;34m\u001b[0m\u001b[0m\n\u001b[0m\u001b[1;32m      5\u001b[0m \u001b[0mprint\u001b[0m\u001b[0;34m(\u001b[0m\u001b[0mtable\u001b[0m\u001b[0;34m)\u001b[0m\u001b[0;34m\u001b[0m\u001b[0m\n\u001b[1;32m      6\u001b[0m \u001b[0mprint\u001b[0m\u001b[0;34m(\u001b[0m\u001b[0ms\u001b[0m\u001b[0;34m.\u001b[0m\u001b[0mtranslate\u001b[0m\u001b[0;34m(\u001b[0m\u001b[0mtable\u001b[0m\u001b[0;34m)\u001b[0m\u001b[0;34m)\u001b[0m\u001b[0;34m\u001b[0m\u001b[0m\n",
      "\u001b[0;31mValueError\u001b[0m: the first two maketrans arguments must have equal length"
     ]
    }
   ],
   "source": [
    "#maketrans() 生产用于字符串替换的映射表\n",
    "#translate() 进行字符串替换\n",
    "s = \"我如果爱你  绝不像攀援的凌霄花  借你的高枝来炫耀自己  我如果爱你  绝不学痴情的鸟  为绿荫重复单调的歌曲\"\n",
    "table = s.maketrans(\" \",\"**\")   # 所替代的两个字符 长度许相等\n",
    "print(table)\n",
    "print(s.translate(table))"
   ]
  }
 ],
 "metadata": {
  "kernelspec": {
   "display_name": "Python 3",
   "language": "python",
   "name": "python3"
  },
  "language_info": {
   "codemirror_mode": {
    "name": "ipython",
    "version": 3
   },
   "file_extension": ".py",
   "mimetype": "text/x-python",
   "name": "python",
   "nbconvert_exporter": "python",
   "pygments_lexer": "ipython3",
   "version": "3.6.3"
  }
 },
 "nbformat": 4,
 "nbformat_minor": 2
}
