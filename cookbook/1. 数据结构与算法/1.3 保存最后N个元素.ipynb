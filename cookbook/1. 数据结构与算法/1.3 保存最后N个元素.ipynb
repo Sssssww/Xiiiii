{
 "cells": [
  {
   "cell_type": "code",
   "execution_count": 1,
   "metadata": {},
   "outputs": [
    {
     "name": "stdout",
     "output_type": "stream",
     "text": [
      "我如果爱你\n",
      "\n",
      "====================\n",
      "我如果爱你\n",
      "绝不像攀援的凌霄花\n",
      "\n",
      "====================\n",
      "我如果爱你\n",
      "绝不像攀援的凌霄花\n",
      "借你的高枝来炫耀自己\n",
      "\n",
      "====================\n",
      "绝不像攀援的凌霄花\n",
      "借你的高枝来炫耀自己\n",
      "我如果爱你\n",
      "\n",
      "====================\n",
      "借你的高枝来炫耀自己\n",
      "我如果爱你\n",
      "绝不学痴情的鸟儿\n",
      "\n",
      "====================\n",
      "我如果爱你\n",
      "绝不学痴情的鸟儿\n",
      "为绿荫重复单调的歌曲\n",
      "====================\n"
     ]
    }
   ],
   "source": [
    "from collections import deque\n",
    "\n",
    "def search(lines, pattern, history=5): # history给予的参数代表保存N+1个元素\n",
    "    previous_lines = deque(maxlen = history)\n",
    "    for line in lines:\n",
    "        if pattern in line:\n",
    "            yield line,previous_lines\n",
    "        previous_lines.append(line)\n",
    "#案例\n",
    "if __name__ == '__main__':\n",
    "    with open ('peihe1.3.txt',encoding='UTF-8') as f:\n",
    "        for line, prevlines in search(f,'', history=2):  \n",
    "            for pline in prevlines:\n",
    "                print( pline,end = '')\n",
    "            print(line,end = '')\n",
    "            print()\n",
    "            print(\"=\"*20)\n",
    "            \n",
    "                "
   ]
  },
  {
   "cell_type": "code",
   "execution_count": 53,
   "metadata": {},
   "outputs": [
    {
     "data": {
      "text/plain": [
       "deque([2, 3])"
      ]
     },
     "execution_count": 53,
     "metadata": {},
     "output_type": "execute_result"
    }
   ],
   "source": [
    "q = deque(maxlen = 2)\n",
    "q.append(1)\n",
    "q.append(2)\n",
    "q.append(3)\n",
    "q"
   ]
  },
  {
   "cell_type": "code",
   "execution_count": 71,
   "metadata": {},
   "outputs": [
    {
     "name": "stdout",
     "output_type": "stream",
     "text": [
      "deque([1, 2, 3])\n",
      "deque([4, 1, 2, 3])\n",
      "deque([4, 1, 2])\n"
     ]
    }
   ],
   "source": [
    "q = deque()\n",
    "q.append(1)\n",
    "q.append(2)\n",
    "q.append(3)\n",
    "print(q)\n",
    "q.appendleft(4)\n",
    "print(q)\n",
    "q.pop()\n",
    "print(q)"
   ]
  },
  {
   "cell_type": "code",
   "execution_count": null,
   "metadata": {
    "collapsed": true
   },
   "outputs": [],
   "source": []
  }
 ],
 "metadata": {
  "kernelspec": {
   "display_name": "Python 3",
   "language": "python",
   "name": "python3"
  },
  "language_info": {
   "codemirror_mode": {
    "name": "ipython",
    "version": 3
   },
   "file_extension": ".py",
   "mimetype": "text/x-python",
   "name": "python",
   "nbconvert_exporter": "python",
   "pygments_lexer": "ipython3",
   "version": "3.6.3"
  }
 },
 "nbformat": 4,
 "nbformat_minor": 2
}
