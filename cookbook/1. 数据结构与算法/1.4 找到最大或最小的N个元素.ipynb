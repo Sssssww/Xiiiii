{
 "cells": [
  {
   "cell_type": "code",
   "execution_count": 5,
   "metadata": {},
   "outputs": [
    {
     "name": "stdout",
     "output_type": "stream",
     "text": [
      "[54, 6, 5]\n",
      "[-54, -2, -1]\n"
     ]
    }
   ],
   "source": [
    "import heapq\n",
    "\n",
    "nums = [1,3,4,6,-54,5,54,3,3,4,-2,-1]\n",
    "print(heapq.nlargest(3,nums))\n",
    "print(heapq.nsmallest(3,nums))"
   ]
  },
  {
   "cell_type": "code",
   "execution_count": 10,
   "metadata": {},
   "outputs": [
    {
     "name": "stdout",
     "output_type": "stream",
     "text": [
      "[{'name': 'wangsanha', 'year': '2017', 'age': 17}]\n",
      "[{'name': 'wangdaha', 'year': 2019, 'age': 19}]\n"
     ]
    }
   ],
   "source": [
    "portfolio = [\n",
    "    {'name':'wangerha','year':'2018','age':18},\n",
    "    {'name':'wangsanha','year':'2017','age':17},\n",
    "    {'name':'wangdaha','year':2019,'age':19}\n",
    "] \n",
    "small = heapq.nsmallest(1,portfolio,key = lambda s:s['age'])\n",
    "big = heapq.nlargest(1,portfolio, key = lambda s:s['age'])  #第一个参数为找到n个元素\n",
    "print(small)\n",
    "print(big)"
   ]
  },
  {
   "cell_type": "code",
   "execution_count": 23,
   "metadata": {},
   "outputs": [
    {
     "name": "stdout",
     "output_type": "stream",
     "text": [
      "[-54, -2, -1, 3, 1, 4, 54, 3, 6, 4, 3, 5]\n",
      "[-2, 1, -1, 3, 3, 4, 54, 3, 6, 4, 5]\n"
     ]
    },
    {
     "data": {
      "text/plain": [
       "1"
      ]
     },
     "execution_count": 23,
     "metadata": {},
     "output_type": "execute_result"
    }
   ],
   "source": [
    "#  移除最小第元素\n",
    "heap = list(nums)\n",
    "heapq.heapify(heap)\n",
    "print(heap)\n",
    "heapq.heappop(heap)\n",
    "print(heap)\n",
    "heapq.heappop(heap)\n",
    "heapq.heappop(heap)\n",
    "heapq.heappop(heap)"
   ]
  }
 ],
 "metadata": {
  "kernelspec": {
   "display_name": "Python 3",
   "language": "python",
   "name": "python3"
  },
  "language_info": {
   "codemirror_mode": {
    "name": "ipython",
    "version": 3
   },
   "file_extension": ".py",
   "mimetype": "text/x-python",
   "name": "python",
   "nbconvert_exporter": "python",
   "pygments_lexer": "ipython3",
   "version": "3.7.0"
  }
 },
 "nbformat": 4,
 "nbformat_minor": 2
}
