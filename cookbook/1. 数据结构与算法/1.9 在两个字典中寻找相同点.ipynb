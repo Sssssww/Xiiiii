{
 "cells": [
  {
   "cell_type": "code",
   "execution_count": 2,
   "metadata": {},
   "outputs": [],
   "source": [
    "a = {\n",
    "    'x':1,\n",
    "    'y':2,\n",
    "    'z':3\n",
    "}\n",
    "b = {\n",
    "    'x':1,\n",
    "    'w':2,\n",
    "    'z':4\n",
    "}"
   ]
  },
  {
   "cell_type": "code",
   "execution_count": 4,
   "metadata": {},
   "outputs": [
    {
     "name": "stdout",
     "output_type": "stream",
     "text": [
      "{'x', 'z'}\n"
     ]
    }
   ],
   "source": [
    "# 寻找键的 交集\n",
    "print(a.keys() & b.keys())"
   ]
  },
  {
   "cell_type": "code",
   "execution_count": 5,
   "metadata": {},
   "outputs": [
    {
     "name": "stdout",
     "output_type": "stream",
     "text": [
      "{'y'}\n"
     ]
    }
   ],
   "source": [
    "# 寻找键的 差集\n",
    "print(a.keys()-b.keys())"
   ]
  },
  {
   "cell_type": "code",
   "execution_count": 6,
   "metadata": {},
   "outputs": [
    {
     "name": "stdout",
     "output_type": "stream",
     "text": [
      "{('x', 1)}\n"
     ]
    }
   ],
   "source": [
    "# 寻找 键和值的 交集\n",
    "print(a.items()&b.items())"
   ]
  },
  {
   "cell_type": "code",
   "execution_count": 8,
   "metadata": {},
   "outputs": [
    {
     "name": "stdout",
     "output_type": "stream",
     "text": [
      "{'x': 1, 'y': 2}\n"
     ]
    }
   ],
   "source": [
    "# 创建一个新的字典\n",
    "c = {key:a[key] for key in a.keys()-{'z','w'}}\n",
    "print(c)"
   ]
  }
 ],
 "metadata": {
  "kernelspec": {
   "display_name": "Python 3",
   "language": "python",
   "name": "python3"
  },
  "language_info": {
   "codemirror_mode": {
    "name": "ipython",
    "version": 3
   },
   "file_extension": ".py",
   "mimetype": "text/x-python",
   "name": "python",
   "nbconvert_exporter": "python",
   "pygments_lexer": "ipython3",
   "version": "3.7.0"
  }
 },
 "nbformat": 4,
 "nbformat_minor": 2
}
