{
 "cells": [
  {
   "cell_type": "code",
   "execution_count": 68,
   "metadata": {},
   "outputs": [],
   "source": [
    "rows = [\n",
    "    {\"name\":\"wanghaha\",\"age\":18, \"date\":\"2018-11-26\"},\n",
    "    {\"name\":\"liuqingyi\", \"age\":17 ,\"date\":\"2017-11-26\"},\n",
    "    {\"name\":\"guanshanglu\", \"age\":16, \"date\":\"2018-11-26\"},\n",
    "    {\"name\":\"lixiaolan\",\"age\":15, \"date\":\"2015-11-26\"},\n",
    "    {\"name\":\"jinzhenen\", \"age\":14 ,\"date\":\"2017-11-26\"},\n",
    "    {\"name\":\"pangdatou\", \"age\":13, \"date\":\"2014-11-26\"},   \n",
    "] "
   ]
  },
  {
   "cell_type": "code",
   "execution_count": 69,
   "metadata": {},
   "outputs": [
    {
     "name": "stdout",
     "output_type": "stream",
     "text": [
      "a\n",
      "b\n",
      "c\n",
      "d\n",
      "e\n",
      "f\n",
      "g\n",
      "++++++++++++++++++++\n",
      "('a', <itertools._grouper object at 0x00000241138CFBE0>)\n",
      "('b', <itertools._grouper object at 0x00000241138CFC18>)\n",
      "('c', <itertools._grouper object at 0x00000241138CFBE0>)\n",
      "('d', <itertools._grouper object at 0x00000241138CFC18>)\n",
      "('e', <itertools._grouper object at 0x00000241138CFBE0>)\n",
      "('f', <itertools._grouper object at 0x00000241138CFC18>)\n",
      "('g', <itertools._grouper object at 0x00000241138CFBE0>)\n"
     ]
    }
   ],
   "source": [
    "# groupby 的使用\n",
    "for k,g in groupby(\"aaaabbbcccdefg\"):\n",
    "    print(k)\n",
    "print(\"+\"*20)\n",
    "# 注意要给两个参数去取前面的值\n",
    "for k in groupby(\"aaaabbbcccdefg\"):\n",
    "    print(k)"
   ]
  },
  {
   "cell_type": "code",
   "execution_count": 70,
   "metadata": {},
   "outputs": [
    {
     "name": "stdout",
     "output_type": "stream",
     "text": [
      "2014-11-26\n",
      "  {'name': 'pangdatou', 'age': 13, 'date': '2014-11-26'}\n",
      "2015-11-26\n",
      "  {'name': 'lixiaolan', 'age': 15, 'date': '2015-11-26'}\n",
      "2017-11-26\n",
      "  {'name': 'liuqingyi', 'age': 17, 'date': '2017-11-26'}\n",
      "  {'name': 'jinzhenen', 'age': 14, 'date': '2017-11-26'}\n",
      "2018-11-26\n",
      "  {'name': 'wanghaha', 'age': 18, 'date': '2018-11-26'}\n",
      "  {'name': 'guanshanglu', 'age': 16, 'date': '2018-11-26'}\n"
     ]
    }
   ],
   "source": [
    "from operator import itemgetter\n",
    "from itertools import groupby\n",
    "#  先以日期为关键词分类  参照 1.13\n",
    "rows.sort(key = itemgetter(\"date\"))\n",
    "\n",
    "# 在组中迭代\n",
    "for date, items in groupby(rows,key = lambda y : y[\"date\"]):\n",
    "    print(date)\n",
    "    for i in items:\n",
    "        print(\" \", i)"
   ]
  },
  {
   "cell_type": "code",
   "execution_count": 71,
   "metadata": {},
   "outputs": [
    {
     "name": "stdout",
     "output_type": "stream",
     "text": [
      "defaultdict(<class 'list'>, {'2014-11-26': [{'name': 'pangdatou', 'age': 13, 'date': '2014-11-26'}], '2015-11-26': [{'name': 'lixiaolan', 'age': 15, 'date': '2015-11-26'}], '2017-11-26': [{'name': 'liuqingyi', 'age': 17, 'date': '2017-11-26'}, {'name': 'jinzhenen', 'age': 14, 'date': '2017-11-26'}], '2018-11-26': [{'name': 'wanghaha', 'age': 18, 'date': '2018-11-26'}, {'name': 'guanshanglu', 'age': 16, 'date': '2018-11-26'}]})\n",
      "2014-11-26     [{'name': 'pangdatou', 'age': 13, 'date': '2014-11-26'}]\n",
      "2015-11-26     [{'name': 'lixiaolan', 'age': 15, 'date': '2015-11-26'}]\n",
      "2017-11-26     [{'name': 'liuqingyi', 'age': 17, 'date': '2017-11-26'}, {'name': 'jinzhenen', 'age': 14, 'date': '2017-11-26'}]\n",
      "2018-11-26     [{'name': 'wanghaha', 'age': 18, 'date': '2018-11-26'}, {'name': 'guanshanglu', 'age': 16, 'date': '2018-11-26'}]\n"
     ]
    }
   ],
   "source": [
    "# 也可以用defaultdict()来构造一个一键多值字典\n",
    "from collections import defaultdict\n",
    "row_by_date = defaultdict(list)\n",
    "for row in rows:\n",
    "    row_by_date[row[\"date\"]].append(row)\n",
    "print(row_by_date)\n",
    "for k in row_by_date:\n",
    "    print(k,\"   \",row_by_date[k])"
   ]
  },
  {
   "cell_type": "code",
   "execution_count": 73,
   "metadata": {},
   "outputs": [
    {
     "name": "stdout",
     "output_type": "stream",
     "text": [
      "{'name': 'liuqingyi', 'age': 17, 'date': '2017-11-26'}\n",
      "{'name': 'jinzhenen', 'age': 14, 'date': '2017-11-26'}\n"
     ]
    }
   ],
   "source": [
    "for r in row_by_date[\"2017-11-26\"]:\n",
    "    print(r)"
   ]
  }
 ],
 "metadata": {
  "kernelspec": {
   "display_name": "Python 3",
   "language": "python",
   "name": "python3"
  },
  "language_info": {
   "codemirror_mode": {
    "name": "ipython",
    "version": 3
   },
   "file_extension": ".py",
   "mimetype": "text/x-python",
   "name": "python",
   "nbconvert_exporter": "python",
   "pygments_lexer": "ipython3",
   "version": "3.7.0"
  }
 },
 "nbformat": 4,
 "nbformat_minor": 2
}
