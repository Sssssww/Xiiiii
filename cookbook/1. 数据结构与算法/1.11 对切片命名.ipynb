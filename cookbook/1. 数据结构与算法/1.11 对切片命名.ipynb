{
 "cells": [
  {
   "cell_type": "code",
   "execution_count": 19,
   "metadata": {},
   "outputs": [
    {
     "name": "stdout",
     "output_type": "stream",
     "text": [
      "2018-11-25  11520\n"
     ]
    }
   ],
   "source": [
    "# 在使用一些字符串固定位置时\n",
    "# 避免使用使用许多神秘的编码索引 \n",
    "s = \"aaaa2018-11-25bbbb11520\"\n",
    "date = slice(4,14)\n",
    "keyword = slice(18,24)\n",
    "print(s[date]+\"  \"+s[keyword])"
   ]
  },
  {
   "cell_type": "code",
   "execution_count": 43,
   "metadata": {},
   "outputs": [
    {
     "name": "stdout",
     "output_type": "stream",
     "text": [
      "[1, 2, 3, 4]\n",
      "[11, 10, 5, 6, 7, 8]\n",
      "[11, 10, 5, 6]\n"
     ]
    }
   ],
   "source": [
    "items = [1, 2, 3, 4, 5, 6, 7, 8]\n",
    "a = slice(0,4)\n",
    "print(items[a]) \n",
    "items[a] = [11,10]\n",
    "print(items)\n",
    "print(items[a])"
   ]
  },
  {
   "cell_type": "code",
   "execution_count": 96,
   "metadata": {},
   "outputs": [
    {
     "name": "stdout",
     "output_type": "stream",
     "text": [
      "Hello world"
     ]
    }
   ],
   "source": [
    "# 可以用indices将切片映射到特定大小的序列上\n",
    "v = slice(0,20)\n",
    "s = \"Hello world\"\n",
    "v.indices(len(s)) # indices切片的最大不会超过 slice最大的\n",
    "for i in range(*v.indices(len(s))):\n",
    "    print(s[i] , end = \"\")"
   ]
  },
  {
   "cell_type": "code",
   "execution_count": null,
   "metadata": {},
   "outputs": [],
   "source": []
  }
 ],
 "metadata": {
  "kernelspec": {
   "display_name": "Python 3",
   "language": "python",
   "name": "python3"
  },
  "language_info": {
   "codemirror_mode": {
    "name": "ipython",
    "version": 3
   },
   "file_extension": ".py",
   "mimetype": "text/x-python",
   "name": "python",
   "nbconvert_exporter": "python",
   "pygments_lexer": "ipython3",
   "version": "3.7.0"
  }
 },
 "nbformat": 4,
 "nbformat_minor": 2
}
