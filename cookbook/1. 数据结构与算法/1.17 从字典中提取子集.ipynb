{
 "cells": [
  {
   "cell_type": "code",
   "execution_count": 9,
   "metadata": {},
   "outputs": [
    {
     "name": "stdout",
     "output_type": "stream",
     "text": [
      "{'wanglajie': 5, 'wulongca': 38, 'wangzainiunai': 5, 'cabai': 29}\n",
      "{'wulongca': 38, 'cabai': 29}\n"
     ]
    }
   ],
   "source": [
    "prices = {\n",
    "    \"wahaha\":2.5,\n",
    "    \"wanglajie\":5,\n",
    "    \"xuebi\":3,\n",
    "    \"wulongca\":38,\n",
    "    \"wangzainiunai\":5,\n",
    "    \"cabai\":29\n",
    "}\n",
    "# 创建一个字典所有的价格都大于等于5\n",
    "p1 = {key:value for key, value in prices.items() if value >= 5}\n",
    "print(p1)\n",
    "\n",
    "# 创建一个字典内容关于tech_name\n",
    "tech_name = {\"cabai\", \"wulongca\"}\n",
    "p2 = {key:value for key, value in prices.items() if key in tech_name}\n",
    "print(p2)"
   ]
  },
  {
   "cell_type": "code",
   "execution_count": 13,
   "metadata": {},
   "outputs": [
    {
     "name": "stdout",
     "output_type": "stream",
     "text": [
      "{'wanglajie': 5, 'wulongca': 38, 'wangzainiunai': 5, 'cabai': 29}\n"
     ]
    }
   ],
   "source": [
    "# 大部分可以用字典推导式的问题也可以通过创建元组序列然后将它们传给dict()函数来完成。\n",
    "p1 = dict((key, value) for key, value in prices.items() if value >=5 )\n",
    "print(p1)"
   ]
  },
  {
   "cell_type": "code",
   "execution_count": 24,
   "metadata": {},
   "outputs": [
    {
     "name": "stdout",
     "output_type": "stream",
     "text": [
      "{'wulongca': 38, 'cabai': 29}\n"
     ]
    }
   ],
   "source": [
    "tech_name ={\"cabai\", \"wulongca\"}\n",
    "p2 = {key:prices[key] for key in prices.keys() & tech_name}\n",
    "print(p2)"
   ]
  }
 ],
 "metadata": {
  "kernelspec": {
   "display_name": "Python 3",
   "language": "python",
   "name": "python3"
  },
  "language_info": {
   "codemirror_mode": {
    "name": "ipython",
    "version": 3
   },
   "file_extension": ".py",
   "mimetype": "text/x-python",
   "name": "python",
   "nbconvert_exporter": "python",
   "pygments_lexer": "ipython3",
   "version": "3.7.0"
  }
 },
 "nbformat": 4,
 "nbformat_minor": 2
}
