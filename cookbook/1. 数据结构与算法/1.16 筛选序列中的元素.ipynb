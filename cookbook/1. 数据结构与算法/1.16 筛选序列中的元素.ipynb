{
 "cells": [
  {
   "cell_type": "code",
   "execution_count": 2,
   "metadata": {},
   "outputs": [
    {
     "name": "stdout",
     "output_type": "stream",
     "text": [
      "[1, 4, 6, 7, 56, 5]\n",
      "[-6, -6, -8, -5]\n"
     ]
    }
   ],
   "source": [
    "mylist = [1, 4, 6, 7, -6, -6, 56, 5, -8, -5]\n",
    "list_1 = [n for n in mylist if n > 0]\n",
    "print(list_1)\n",
    "list_2 = [n for n in mylist if n < 0]\n",
    "print(list_2)"
   ]
  },
  {
   "cell_type": "code",
   "execution_count": 3,
   "metadata": {},
   "outputs": [
    {
     "name": "stdout",
     "output_type": "stream",
     "text": [
      "<generator object <genexpr> at 0x000002980D8DB480>\n",
      "4 6 -6 -6 56 -8 "
     ]
    }
   ],
   "source": [
    "pos = (n for n in mylist if n % 2 == 0)\n",
    "print(pos)\n",
    "for i in pos:\n",
    "    print(i,end = \" \")"
   ]
  },
  {
   "cell_type": "code",
   "execution_count": 4,
   "metadata": {},
   "outputs": [
    {
     "name": "stdout",
     "output_type": "stream",
     "text": [
      "Help on class filter in module builtins:\n",
      "\n",
      "class filter(object)\n",
      " |  filter(function or None, iterable) --> filter object\n",
      " |  \n",
      " |  Return an iterator yielding those items of iterable for which function(item)\n",
      " |  is true. If function is None, return the items that are true.\n",
      " |  \n",
      " |  Methods defined here:\n",
      " |  \n",
      " |  __getattribute__(self, name, /)\n",
      " |      Return getattr(self, name).\n",
      " |  \n",
      " |  __iter__(self, /)\n",
      " |      Implement iter(self).\n",
      " |  \n",
      " |  __next__(self, /)\n",
      " |      Implement next(self).\n",
      " |  \n",
      " |  __reduce__(...)\n",
      " |      Return state information for pickling.\n",
      " |  \n",
      " |  ----------------------------------------------------------------------\n",
      " |  Static methods defined here:\n",
      " |  \n",
      " |  __new__(*args, **kwargs) from builtins.type\n",
      " |      Create and return a new object.  See help(type) for accurate signature.\n",
      "\n"
     ]
    }
   ],
   "source": [
    "help(filter)"
   ]
  },
  {
   "cell_type": "code",
   "execution_count": 5,
   "metadata": {},
   "outputs": [
    {
     "name": "stdout",
     "output_type": "stream",
     "text": [
      "['1', '3', '66', '679', '-1', '0']\n",
      "['1', '3', '66', '679', '-1', '0']\n"
     ]
    }
   ],
   "source": [
    "value = [\"1\", \"3\", \"66\", \"679\", \"haha\", \"-1\", \"-\", \"0\"]\n",
    "def is_int(val):\n",
    "    try:\n",
    "        x = int(val)\n",
    "        return True\n",
    "    except:\n",
    "        return False\n",
    "##############################\n",
    "list_01 = []\n",
    "for i in value:\n",
    "    if is_int(i):\n",
    "        list_01.append(i)\n",
    "print(list_01)\n",
    "# 可以利用内件的filter()函数处理\n",
    "list_02 = list(filter(is_int, value))\n",
    "print(list_02)"
   ]
  },
  {
   "cell_type": "code",
   "execution_count": 6,
   "metadata": {},
   "outputs": [
    {
     "data": {
      "text/plain": [
       "['1', '3', '66', '679', '0']"
      ]
     },
     "execution_count": 6,
     "metadata": {},
     "output_type": "execute_result"
    }
   ],
   "source": [
    "is_int = [n for n in value if n.isnumeric()]\n",
    "is_int"
   ]
  },
  {
   "cell_type": "code",
   "execution_count": 7,
   "metadata": {},
   "outputs": [
    {
     "name": "stdout",
     "output_type": "stream",
     "text": [
      "[1.0, 1.73205, 8.12404, 26.05763, 0.0]\n"
     ]
    }
   ],
   "source": [
    "import math\n",
    "list_03 = [round(math.sqrt(int(n)),5) for n in value if n.isdigit()]  # round()控制浮点数精度 \n",
    "print(list_03)"
   ]
  },
  {
   "cell_type": "code",
   "execution_count": 9,
   "metadata": {},
   "outputs": [
    {
     "name": "stdout",
     "output_type": "stream",
     "text": [
      "[1, 4, 6, 7, 0, 0, 56, 5, 0, 0]\n"
     ]
    }
   ],
   "source": [
    "# 以上方法为丢弃不符标志的值\n",
    "# 如果要使新值代替不满足标准的值时 以下\n",
    "list_04 = [n if n > 0 else 0 for n in mylist]  # 小于0的用0来替代\n",
    "print(list_04)"
   ]
  },
  {
   "cell_type": "code",
   "execution_count": 21,
   "metadata": {},
   "outputs": [
    {
     "name": "stdout",
     "output_type": "stream",
     "text": [
      "Help on class compress in module itertools:\n",
      "\n",
      "class compress(builtins.object)\n",
      " |  compress(data, selectors) --> iterator over selected data\n",
      " |  \n",
      " |  Return data elements corresponding to true selector elements.\n",
      " |  Forms a shorter iterator from selected data elements using the\n",
      " |  selectors to choose the data elements.\n",
      " |  \n",
      " |  Methods defined here:\n",
      " |  \n",
      " |  __getattribute__(self, name, /)\n",
      " |      Return getattr(self, name).\n",
      " |  \n",
      " |  __iter__(self, /)\n",
      " |      Implement iter(self).\n",
      " |  \n",
      " |  __next__(self, /)\n",
      " |      Implement next(self).\n",
      " |  \n",
      " |  __reduce__(...)\n",
      " |      Return state information for pickling.\n",
      " |  \n",
      " |  ----------------------------------------------------------------------\n",
      " |  Static methods defined here:\n",
      " |  \n",
      " |  __new__(*args, **kwargs) from builtins.type\n",
      " |      Create and return a new object.  See help(type) for accurate signature.\n",
      "\n"
     ]
    }
   ],
   "source": [
    "help(compress)"
   ]
  },
  {
   "cell_type": "code",
   "execution_count": 36,
   "metadata": {},
   "outputs": [
    {
     "name": "stdout",
     "output_type": "stream",
     "text": [
      "[False, False, False, False, False, True, True, True, True, True]\n",
      "['0022 Q bahanye', '11111', '99999', '54555', '77777']\n"
     ]
    }
   ],
   "source": [
    "from itertools import compress\n",
    "addresses = [\n",
    "    \"3324 N madaha\",\n",
    "    \"1125 W liuxiaobai \",\n",
    "    \"9875 M lichenggong\",\n",
    "    \"1223 P maidaxhen\",\n",
    "    \"6547 U jiujiaojiu\",\n",
    "    \"0022 Q bahanye\",\n",
    "    \"11111\",\n",
    "    \"99999\",\n",
    "    \"54555\",\n",
    "    \"77777\",\n",
    "]\n",
    "counts = [1,2,3,4,5,6,7,8,9,10]\n",
    "more5 = [n > 5 for n in counts]\n",
    "print(more5)\n",
    "list_05 = list(compress(addresses,more5)) \n",
    "print(list_05)"
   ]
  },
  {
   "cell_type": "code",
   "execution_count": null,
   "metadata": {},
   "outputs": [],
   "source": []
  }
 ],
 "metadata": {
  "kernelspec": {
   "display_name": "Python 3",
   "language": "python",
   "name": "python3"
  },
  "language_info": {
   "codemirror_mode": {
    "name": "ipython",
    "version": 3
   },
   "file_extension": ".py",
   "mimetype": "text/x-python",
   "name": "python",
   "nbconvert_exporter": "python",
   "pygments_lexer": "ipython3",
   "version": "3.7.0"
  }
 },
 "nbformat": 4,
 "nbformat_minor": 2
}
