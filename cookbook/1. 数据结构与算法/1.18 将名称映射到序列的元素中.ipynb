{
 "cells": [
  {
   "cell_type": "code",
   "execution_count": 2,
   "metadata": {},
   "outputs": [
    {
     "name": "stdout",
     "output_type": "stream",
     "text": [
      "Student(name='wanghaha', age=18, hobby='eat shit')\n",
      "wanghaha\n",
      "<class 'int'>\n",
      "eat shit\n"
     ]
    }
   ],
   "source": [
    "# namedtuple()减少了数据对位置，如果表单中新添或减少了一列数据那么代码就会崩溃\n",
    "# 将元祖转型为命名元组 则不会出现该问题\n",
    "from collections import namedtuple\n",
    "Student = namedtuple('Student', [\"name\",\"age\",\"hobby\"])\n",
    "stu = Student(\"wanghaha\",18,\"eat shit\")\n",
    "print(stu)\n",
    "print(stu.name)\n",
    "print(type(stu.age))\n",
    "print(stu.hobby)"
   ]
  },
  {
   "cell_type": "code",
   "execution_count": 3,
   "metadata": {},
   "outputs": [
    {
     "name": "stdout",
     "output_type": "stream",
     "text": [
      "3\n",
      "wanghaha\n",
      "18\n",
      "eat shit\n"
     ]
    }
   ],
   "source": [
    "# namedtuple() 支持所有普通元组锁支持操作\n",
    "print(len(stu))\n",
    "name,age,hobby = stu\n",
    "print(name)\n",
    "print(age)\n",
    "print(hobby)"
   ]
  },
  {
   "cell_type": "code",
   "execution_count": 4,
   "metadata": {},
   "outputs": [
    {
     "name": "stdout",
     "output_type": "stream",
     "text": [
      "92.5\n"
     ]
    }
   ],
   "source": [
    "# 计算总和\n",
    "from collections import namedtuple\n",
    "Store = namedtuple(\"Store\",[\"name\",\"share\",\"prices\"])\n",
    "record = [ (\"xuebi\",10,3),(\"wahaha\",25,2.5)]\n",
    "def compute_cost(record):\n",
    "    total = 0\n",
    "    for k in record:\n",
    "        t = Store(*k)\n",
    "        total += t.share * t.prices\n",
    "    print(total)\n",
    "compute_cost(record)"
   ]
  },
  {
   "cell_type": "code",
   "execution_count": 5,
   "metadata": {},
   "outputs": [
    {
     "name": "stdout",
     "output_type": "stream",
     "text": [
      "xuebi : 30\n",
      "wahaha : 62.5\n",
      "总和： 92.5\n"
     ]
    }
   ],
   "source": [
    "# 改进\n",
    "# 显示每次的增加价格的细目\n",
    "from collections import namedtuple\n",
    "Store = namedtuple(\"Store\",[\"name\",\"share\",\"prices\"])\n",
    "record = [ (\"xuebi\",10,3),(\"wahaha\",25,2.5)]\n",
    "\n",
    "def compute_cost(record):\n",
    "    total = 0\n",
    "    for k in record:\n",
    "        t = Store(*k)\n",
    "        total_1 = t.share * t.prices\n",
    "        total += t.share * t.prices\n",
    "        print(t.name,\":\",total_1)\n",
    "    print(\"总和：\",total)\n",
    "compute_cost(record)"
   ]
  },
  {
   "cell_type": "code",
   "execution_count": 6,
   "metadata": {},
   "outputs": [
    {
     "ename": "AttributeError",
     "evalue": "can't set attribute",
     "output_type": "error",
     "traceback": [
      "\u001b[1;31m---------------------------------------------------------------------------\u001b[0m",
      "\u001b[1;31mAttributeError\u001b[0m                            Traceback (most recent call last)",
      "\u001b[1;32m<ipython-input-6-33dbfbd48ae8>\u001b[0m in \u001b[0;36m<module>\u001b[1;34m()\u001b[0m\n\u001b[0;32m      4\u001b[0m \u001b[0mStudent\u001b[0m \u001b[1;33m=\u001b[0m \u001b[0mnamedtuple\u001b[0m\u001b[1;33m(\u001b[0m\u001b[1;34m'Student'\u001b[0m\u001b[1;33m,\u001b[0m \u001b[1;33m[\u001b[0m\u001b[1;34m\"name\"\u001b[0m\u001b[1;33m,\u001b[0m\u001b[1;34m\"age\"\u001b[0m\u001b[1;33m,\u001b[0m\u001b[1;34m\"hobby\"\u001b[0m\u001b[1;33m]\u001b[0m\u001b[1;33m)\u001b[0m\u001b[1;33m\u001b[0m\u001b[0m\n\u001b[0;32m      5\u001b[0m \u001b[0mstu\u001b[0m \u001b[1;33m=\u001b[0m \u001b[0mStudent\u001b[0m\u001b[1;33m(\u001b[0m\u001b[1;34m\"wanghaha\"\u001b[0m\u001b[1;33m,\u001b[0m\u001b[1;36m18\u001b[0m\u001b[1;33m,\u001b[0m\u001b[1;34m\"eat shit\"\u001b[0m\u001b[1;33m)\u001b[0m\u001b[1;33m\u001b[0m\u001b[0m\n\u001b[1;32m----> 6\u001b[1;33m \u001b[0mstu\u001b[0m\u001b[1;33m.\u001b[0m\u001b[0mage\u001b[0m \u001b[1;33m=\u001b[0m \u001b[1;36m17\u001b[0m\u001b[1;33m\u001b[0m\u001b[0m\n\u001b[0m",
      "\u001b[1;31mAttributeError\u001b[0m: can't set attribute"
     ]
    }
   ],
   "source": [
    "# namedtuple 的一种可能用法时作为字典的替代\n",
    "# 注意namedtuple无法更改\n",
    "from collections import namedtuple\n",
    "Student = namedtuple('Student', [\"name\",\"age\",\"hobby\"])\n",
    "stu = Student(\"wanghaha\",18,\"eat shit\")\n",
    "stu.age = 17"
   ]
  },
  {
   "cell_type": "code",
   "execution_count": 7,
   "metadata": {},
   "outputs": [
    {
     "name": "stdout",
     "output_type": "stream",
     "text": [
      "17\n"
     ]
    }
   ],
   "source": [
    "# 如果想修改任何属性 可以通过_replace()来实现。 该方法会船舰一个全新的命名元组\n",
    "stu = Student(\"wanghaha\", 17, \"eat shit\")\n",
    "print(stu.age)"
   ]
  },
  {
   "cell_type": "code",
   "execution_count": 12,
   "metadata": {},
   "outputs": [
    {
     "name": "stdout",
     "output_type": "stream",
     "text": [
      "OrderedDict([('name', 'wanghaha'), ('age', 17), ('hobby', 'eat shit')])\n",
      "example(name='', age=0, hobby='')\n",
      "example(name='wanghaha', age=17, hobby='eat shit')\n",
      "example(name='两岁', age=2, hobby='我才不是两岁')\n"
     ]
    }
   ],
   "source": [
    "# namedtuple()可以通过 _asdict 转化为字典\n",
    "a = stu._asdict()  #转化成字典后 字典时保持有序的  OrderedDic 类型\n",
    "print(a)\n",
    "\n",
    "# 字典 转化为namedtuple()\n",
    "b = {\"name\":\"两岁\", \"age\":2, \"hobby\":\"我才不是两岁\"}\n",
    "example = namedtuple(\"example\",[\"name\",\"age\",\"hobby\"])\n",
    "aa = example(\"\",0,\"\")\n",
    "print(aa)\n",
    "def change(s):\n",
    "    change = aa._replace(**s)\n",
    "    print(change)\n",
    "change(a)\n",
    "change(b)"
   ]
  }
 ],
 "metadata": {
  "kernelspec": {
   "display_name": "Python 3",
   "language": "python",
   "name": "python3"
  },
  "language_info": {
   "codemirror_mode": {
    "name": "ipython",
    "version": 3
   },
   "file_extension": ".py",
   "mimetype": "text/x-python",
   "name": "python",
   "nbconvert_exporter": "python",
   "pygments_lexer": "ipython3",
   "version": "3.7.0"
  }
 },
 "nbformat": 4,
 "nbformat_minor": 2
}
