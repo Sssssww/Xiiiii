{
 "cells": [
  {
   "cell_type": "code",
   "execution_count": 1,
   "metadata": {},
   "outputs": [],
   "source": [
    "#  序列中对象可哈希时\n",
    "# 如果一个对象可哈希  那么在他的生存期内必须是不可变的。\n",
    "# 整数， 浮点数， 字符串， 元组， 都是不可变的\n",
    "def dedupe(items):\n",
    "    seen = set()\n",
    "    for item in items :\n",
    "        if item not in seen:\n",
    "            yield item\n",
    "            seen.add(item)"
   ]
  },
  {
   "cell_type": "code",
   "execution_count": 3,
   "metadata": {},
   "outputs": [
    {
     "name": "stdout",
     "output_type": "stream",
     "text": [
      "[1, 34, 5, 6, 7, 8, 3]\n"
     ]
    }
   ],
   "source": [
    "a = [1,34,5,6,7,8,1,3,5,6,7,8]\n",
    "print(list(dedupe(a)))"
   ]
  },
  {
   "cell_type": "code",
   "execution_count": 1,
   "metadata": {},
   "outputs": [],
   "source": [
    "# 序列中对象不可哈希时\n",
    "def dedupe(items, key = None):\n",
    "    seen = set()\n",
    "    for item in items:\n",
    "        val = item if key is None  else key(item)\n",
    "        if val not in seen:\n",
    "            yield item\n",
    "            seen.add(val)"
   ]
  },
  {
   "cell_type": "code",
   "execution_count": 9,
   "metadata": {},
   "outputs": [
    {
     "name": "stdout",
     "output_type": "stream",
     "text": [
      "[{'a': 1, 'b': 2}, {'a': 2, 'b': 2}]\n"
     ]
    }
   ],
   "source": [
    "a = [{'a':1, 'b':2},{'a':2, 'b':2},{'a':1,'b':2}]\n",
    "print(list(dedupe(a,lambda d : (d['a'],d['b']))))"
   ]
  }
 ],
 "metadata": {
  "kernelspec": {
   "display_name": "Python 3",
   "language": "python",
   "name": "python3"
  },
  "language_info": {
   "codemirror_mode": {
    "name": "ipython",
    "version": 3
   },
   "file_extension": ".py",
   "mimetype": "text/x-python",
   "name": "python",
   "nbconvert_exporter": "python",
   "pygments_lexer": "ipython3",
   "version": "3.7.0"
  }
 },
 "nbformat": 4,
 "nbformat_minor": 2
}
