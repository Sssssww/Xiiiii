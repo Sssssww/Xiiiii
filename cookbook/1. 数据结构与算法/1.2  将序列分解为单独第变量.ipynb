{
 "cells": [
  {
   "cell_type": "code",
   "execution_count": 2,
   "metadata": {},
   "outputs": [
    {
     "name": "stdout",
     "output_type": "stream",
     "text": [
      "4\n",
      "5\n"
     ]
    }
   ],
   "source": [
    "p = (4,5)\n",
    "x, y = p\n",
    "print(x)\n",
    "print(y)"
   ]
  },
  {
   "cell_type": "code",
   "execution_count": 4,
   "metadata": {},
   "outputs": [
    {
     "name": "stdout",
     "output_type": "stream",
     "text": [
      "waerha\n",
      "2018\n",
      "18\n",
      "(11, 12)\n"
     ]
    }
   ],
   "source": [
    "data = ['waerha',2018,18,(11,12)]\n",
    "name, year, age, date = data\n",
    "print(name)\n",
    "print(year)\n",
    "print(age)\n",
    "print(date)"
   ]
  },
  {
   "cell_type": "code",
   "execution_count": 8,
   "metadata": {},
   "outputs": [
    {
     "name": "stdout",
     "output_type": "stream",
     "text": [
      "waerha\n",
      "2018\n",
      "18\n",
      "11\n",
      "12\n"
     ]
    }
   ],
   "source": [
    "name, year, age, (month, day) = data\n",
    "print(name)\n",
    "print(year)\n",
    "print(age)\n",
    "print(month)\n",
    "print(day)"
   ]
  },
  {
   "cell_type": "code",
   "execution_count": 11,
   "metadata": {},
   "outputs": [],
   "source": [
    "#丢掉某些值时可以用一个用不到的变量\n",
    "_, year, _, (month, day) = data"
   ]
  }
 ],
 "metadata": {
  "kernelspec": {
   "display_name": "Python 3",
   "language": "python",
   "name": "python3"
  },
  "language_info": {
   "codemirror_mode": {
    "name": "ipython",
    "version": 3
   },
   "file_extension": ".py",
   "mimetype": "text/x-python",
   "name": "python",
   "nbconvert_exporter": "python",
   "pygments_lexer": "ipython3",
   "version": "3.7.0"
  }
 },
 "nbformat": 4,
 "nbformat_minor": 2
}
