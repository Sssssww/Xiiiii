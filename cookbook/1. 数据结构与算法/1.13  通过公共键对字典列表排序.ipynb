{
 "cells": [
  {
   "cell_type": "code",
   "execution_count": 34,
   "metadata": {},
   "outputs": [],
   "source": [
    "from operator import itemgetter\n",
    "# 主要通过operator 模块中的itemgetter\n",
    "rows = [\n",
    "    {'name':'awanghaha','age':18, 'date':'2018-11-25'},\n",
    "    {'name':'bwangerha','age':17, 'date':'2017-11-25'},\n",
    "    {'name':'cwangsanha','age':16, 'date':'2016-11-25'},\n",
    "    {'name':'bwangsiha','age':15, 'date':'2015-11-25'},\n",
    "]\n",
    "# row_by_age = sorted(rows, key = itemgetter('age'),reverse=True) #按年龄从大到小排序\n",
    "# print(row_by_age)\n",
    "# print('+'*20)\n",
    "# row_by_name = sorted(rows,key = itemgetter('name'),reverse = True)\n",
    "# print(row_by_name)"
   ]
  },
  {
   "cell_type": "code",
   "execution_count": 22,
   "metadata": {},
   "outputs": [
    {
     "name": "stdout",
     "output_type": "stream",
     "text": [
      "Help on built-in function sorted in module builtins:\n",
      "\n",
      "sorted(iterable, /, *, key=None, reverse=False)\n",
      "    Return a new list containing all items from the iterable in ascending order.\n",
      "    \n",
      "    A custom key function can be supplied to customize the sort order, and the\n",
      "    reverse flag can be set to request the result in descending order.\n",
      "\n"
     ]
    }
   ],
   "source": [
    "help(sorted)"
   ]
  },
  {
   "cell_type": "code",
   "execution_count": 26,
   "metadata": {},
   "outputs": [],
   "source": [
    "# itemgetter()还可以接受多个键\n",
    "# row_by_namea = sorted(rows, key = itemgetter('name','age'),reverse =True)\n",
    "# print(row_by_namea)"
   ]
  },
  {
   "cell_type": "code",
   "execution_count": 35,
   "metadata": {},
   "outputs": [
    {
     "name": "stdout",
     "output_type": "stream",
     "text": [
      "[{'name': 'cwangsanha', 'age': 16, 'date': '2016-11-25'}, {'name': 'bwangsiha', 'age': 15, 'date': '2015-11-25'}, {'name': 'bwangerha', 'age': 17, 'date': '2017-11-25'}, {'name': 'awanghaha', 'age': 18, 'date': '2018-11-25'}]\n",
      "++++++++++++++++++++\n",
      "[{'name': 'awanghaha', 'age': 18, 'date': '2018-11-25'}, {'name': 'bwangerha', 'age': 17, 'date': '2017-11-25'}, {'name': 'cwangsanha', 'age': 16, 'date': '2016-11-25'}, {'name': 'bwangsiha', 'age': 15, 'date': '2015-11-25'}]\n",
      "++++++++++++++++++++\n",
      "[{'name': 'cwangsanha', 'age': 16, 'date': '2016-11-25'}, {'name': 'bwangsiha', 'age': 15, 'date': '2015-11-25'}, {'name': 'bwangerha', 'age': 17, 'date': '2017-11-25'}, {'name': 'awanghaha', 'age': 18, 'date': '2018-11-25'}]\n"
     ]
    }
   ],
   "source": [
    "# 用 lambda 表达式来取代itemgetter()的功能\n",
    "row_by_name = sorted(rows, key = lambda r : r['name'],reverse=True)\n",
    "row_by_age = sorted(rows, key = lambda r :r['age'],reverse=True)\n",
    "row_by_namea = sorted(rows, key = lambda r:(r['name'],r['age']),reverse =True)\n",
    "print(row_by_name)\n",
    "print('+'*20)\n",
    "print(row_by_age)\n",
    "print('+'*20)\n",
    "print(row_by_namea)"
   ]
  },
  {
   "cell_type": "code",
   "execution_count": 38,
   "metadata": {},
   "outputs": [
    {
     "name": "stdout",
     "output_type": "stream",
     "text": [
      "{'name': 'bwangsiha', 'age': 15, 'date': '2015-11-25'}\n",
      "{'name': 'awanghaha', 'age': 18, 'date': '2018-11-25'}\n"
     ]
    }
   ],
   "source": [
    "# itemgetter同样可以适用于min()和max()\n",
    "row_by_minage = min(rows, key = itemgetter('age'))\n",
    "print(row_by_minage)\n",
    "row_by_maxage = max(rows, key = itemgetter('age'))\n",
    "print(row_by_maxage)"
   ]
  }
 ],
 "metadata": {
  "kernelspec": {
   "display_name": "Python 3",
   "language": "python",
   "name": "python3"
  },
  "language_info": {
   "codemirror_mode": {
    "name": "ipython",
    "version": 3
   },
   "file_extension": ".py",
   "mimetype": "text/x-python",
   "name": "python",
   "nbconvert_exporter": "python",
   "pygments_lexer": "ipython3",
   "version": "3.7.0"
  }
 },
 "nbformat": 4,
 "nbformat_minor": 2
}
